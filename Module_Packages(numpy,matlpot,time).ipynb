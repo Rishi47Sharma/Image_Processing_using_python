{
  "nbformat": 4,
  "nbformat_minor": 0,
  "metadata": {
    "colab": {
      "name": "Module_Packages(numpy,matlpot,time).ipynb",
      "provenance": [],
      "collapsed_sections": []
    },
    "kernelspec": {
      "name": "python3",
      "display_name": "Python 3"
    },
    "language_info": {
      "name": "python"
    }
  },
  "cells": [
    {
      "cell_type": "code",
      "execution_count": null,
      "metadata": {
        "id": "HNTs9OBnHtga"
      },
      "outputs": [],
      "source": [
        "import numpy as np\n",
        "import matplotlib.pyplot as plt\n",
        "import time as t\n",
        "\n",
        "a=np.array([2,5,1,7,6,93])\n",
        "print(a)\n",
        "print(type(a))\n",
        "print(np.__doc__)\n"
      ]
    },
    {
      "cell_type": "code",
      "source": [
        "b=a.reshape(3,2)\n",
        "print(b)#to arrange elemet in verious dimension\n",
        "print(b.shape)\n",
        "r=np.arange(16)\n",
        "print(r)\n",
        "print (np.linspace(0,10,7))\n",
        "\n"
      ],
      "metadata": {
        "colab": {
          "base_uri": "https://localhost:8080/"
        },
        "id": "QPGBWsYpKg3v",
        "outputId": "20503255-ecd6-4ab4-e9e0-65c932830bfd"
      },
      "execution_count": 7,
      "outputs": [
        {
          "output_type": "stream",
          "name": "stdout",
          "text": [
            "[[ 2  5]\n",
            " [ 1  7]\n",
            " [ 6 93]]\n",
            "(3, 2)\n",
            "[ 0  1  2  3  4  5  6  7  8  9 10 11 12 13 14 15]\n",
            "[ 0.          1.66666667  3.33333333  5.          6.66666667  8.33333333\n",
            " 10.        ]\n"
          ]
        }
      ]
    },
    {
      "cell_type": "code",
      "source": [
        "print(np.zeros(4))\n",
        "print(np.ones(4))\n",
        "plt.plot(a)\n"
      ],
      "metadata": {
        "colab": {
          "base_uri": "https://localhost:8080/",
          "height": 317
        },
        "id": "lIg4NcsdNKwn",
        "outputId": "51221425-9be0-4a88-f503-444ae544e3da"
      },
      "execution_count": 8,
      "outputs": [
        {
          "output_type": "stream",
          "name": "stdout",
          "text": [
            "[0. 0. 0. 0.]\n",
            "[1. 1. 1. 1.]\n"
          ]
        },
        {
          "output_type": "execute_result",
          "data": {
            "text/plain": [
              "[<matplotlib.lines.Line2D at 0x7faab9795b90>]"
            ]
          },
          "metadata": {},
          "execution_count": 8
        },
        {
          "output_type": "display_data",
          "data": {
            "image/png": "[encoded data removed]",
            "text/plain": [
              "<Figure size 432x288 with 1 Axes>"
            ]
          },
          "metadata": {
            "needs_background": "light"
          }
        }
      ]
    },
    {
      "cell_type": "markdown",
      "source": [
        "Diagonals"
      ],
      "metadata": {
        "id": "OCCjfkufPmpX"
      }
    },
    {
      "cell_type": "code",
      "source": [
        "print(np.eye(2))\n",
        "t=np.diag([45,33,56,78])\n",
        "print(t)"
      ],
      "metadata": {
        "colab": {
          "base_uri": "https://localhost:8080/"
        },
        "id": "IlNZ2i7jO5JE",
        "outputId": "1b905315-68d3-4a22-85de-cf89ac442269"
      },
      "execution_count": 9,
      "outputs": [
        {
          "output_type": "stream",
          "name": "stdout",
          "text": [
            "[[1. 0.]\n",
            " [0. 1.]]\n",
            "[[45  0  0  0]\n",
            " [ 0 33  0  0]\n",
            " [ 0  0 56  0]\n",
            " [ 0  0  0 78]]\n"
          ]
        }
      ]
    },
    {
      "cell_type": "markdown",
      "source": [
        "Indexing and slicing"
      ],
      "metadata": {
        "id": "IMXdFGyrPjGk"
      }
    },
    {
      "cell_type": "code",
      "source": [
        "q=r.reshape(4,4)\n",
        "print(q[0:3,0:4])\n",
        "print(q)"
      ],
      "metadata": {
        "colab": {
          "base_uri": "https://localhost:8080/"
        },
        "id": "klXRNgAXPpMs",
        "outputId": "5d294af6-42bd-442b-e844-ff949f9d2637"
      },
      "execution_count": 10,
      "outputs": [
        {
          "output_type": "stream",
          "name": "stdout",
          "text": [
            "[[ 0  1  2  3]\n",
            " [ 4  5  6  7]\n",
            " [ 8  9 10 11]]\n",
            "[[ 0  1  2  3]\n",
            " [ 4  5  6  7]\n",
            " [ 8  9 10 11]\n",
            " [12 13 14 15]]\n"
          ]
        }
      ]
    },
    {
      "cell_type": "markdown",
      "source": [
        "Example:"
      ],
      "metadata": {
        "id": "gcdlU_pFRyPW"
      }
    },
    {
      "cell_type": "code",
      "source": [
        "a=int(input())\n",
        "b=np.arange((a*a))\n",
        "d=b.reshape(a,a)\n",
        "print(d)\n",
        "\n",
        "print(\"A =\",d[0:a//2,0:a//2])\n",
        "print(\"B =\",d[0:a//2,a//2:a])\n",
        "print(\"C =\",d[a//2:a,0:a//2])\n",
        "print(\"D =\",d[a//2:a,a//2:a])\n"
      ],
      "metadata": {
        "colab": {
          "base_uri": "https://localhost:8080/"
        },
        "id": "jDPLiR-mRzmu",
        "outputId": "dbfd9381-d059-4afd-b597-9e1ab9a6a6d0"
      },
      "execution_count": 12,
      "outputs": [
        {
          "output_type": "stream",
          "name": "stdout",
          "text": [
            "4\n",
            "[[ 0  1  2  3]\n",
            " [ 4  5  6  7]\n",
            " [ 8  9 10 11]\n",
            " [12 13 14 15]]\n",
            "A = [[0 1]\n",
            " [4 5]]\n",
            "B = [[2 3]\n",
            " [6 7]]\n",
            "C = [[ 8  9]\n",
            " [12 13]]\n",
            "D=  [[10 11]\n",
            " [14 15]]\n"
          ]
        }
      ]
    },
    {
      "cell_type": "code",
      "source": [
        "a=int(input())\n",
        "b=np.arange((a*a))\n",
        "d=b.reshape(a,a)\n",
        "print(d)\n",
        "print(d[0:5:2,0:5:2])#3rd value indicate the difference"
      ],
      "metadata": {
        "colab": {
          "base_uri": "https://localhost:8080/"
        },
        "id": "X7nYgk5ER_SL",
        "outputId": "32992d48-8168-41d8-aca7-f959610f4800"
      },
      "execution_count": 15,
      "outputs": [
        {
          "output_type": "stream",
          "name": "stdout",
          "text": [
            "5\n",
            "[[ 0  1  2  3  4]\n",
            " [ 5  6  7  8  9]\n",
            " [10 11 12 13 14]\n",
            " [15 16 17 18 19]\n",
            " [20 21 22 23 24]]\n",
            "[[ 0  2  4]\n",
            " [10 12 14]\n",
            " [20 22 24]]\n"
          ]
        }
      ]
    },
    {
      "cell_type": "code",
      "source": [
        "p=np.ones(5)\n",
        "q=np.zeros(2)\n",
        "c=np.concatenate([p,q])\n",
        "print(c)\n",
        "a=np.random.random(3)\n",
        "print(a)"
      ],
      "metadata": {
        "colab": {
          "base_uri": "https://localhost:8080/"
        },
        "id": "UIxCSJ7FSvZA",
        "outputId": "5cfc1c96-61b4-4fd4-e36b-2ada50a2a0cf"
      },
      "execution_count": 21,
      "outputs": [
        {
          "output_type": "stream",
          "name": "stdout",
          "text": [
            "[1. 1. 1. 1. 1. 0. 0.]\n",
            "[0.73951026 0.45451134 0.34706134]\n"
          ]
        }
      ]
    },
    {
      "cell_type": "markdown",
      "source": [
        "Transpose Of a matrix"
      ],
      "metadata": {
        "id": "E2snk3CUU8RS"
      }
    },
    {
      "cell_type": "code",
      "source": [
        "a =(np.arange(11)+1).reshape(5,2)\n",
        "b=a.T\n",
        "print(a)\n",
        "print(b)"
      ],
      "metadata": {
        "colab": {
          "base_uri": "https://localhost:8080/"
        },
        "id": "8znStKy6U_kj",
        "outputId": "1642b687-4610-439a-8939-dd8903ee426e"
      },
      "execution_count": 24,
      "outputs": [
        {
          "output_type": "stream",
          "name": "stdout",
          "text": [
            "[[ 1  2]\n",
            " [ 3  4]\n",
            " [ 5  6]\n",
            " [ 7  8]\n",
            " [ 9 10]]\n",
            "[[ 1  3  5  7  9]\n",
            " [ 2  4  6  8 10]]\n"
          ]
        }
      ]
    },
    {
      "cell_type": "markdown",
      "source": [
        "Concatenation of list and element of array"
      ],
      "metadata": {
        "id": "bqxPwG9cVyzR"
      }
    },
    {
      "cell_type": "code",
      "source": [
        "a=[12,32,43]\n",
        "b=[23,45,56]\n",
        "c=a+b\n",
        "print(c)\n",
        "d=np.array([12,32,43])\n",
        "e=np.array([23,45,56])\n",
        "f=d+e\n",
        "g=e-d\n",
        "h=e>f\n",
        "i=e*b\n",
        "k=np.dot(e,f)\n",
        "print(f,g,h,i,k)"
      ],
      "metadata": {
        "colab": {
          "base_uri": "https://localhost:8080/"
        },
        "id": "rGLOrlg1V71n",
        "outputId": "f8bd067c-f117-4095-cff9-0c1c04e79a04"
      },
      "execution_count": 28,
      "outputs": [
        {
          "output_type": "stream",
          "name": "stdout",
          "text": [
            "[12, 32, 43, 23, 45, 56]\n",
            "[35 77 99] [11 13 13] [False False False] [ 529 2025 3136] 9814\n"
          ]
        }
      ]
    },
    {
      "cell_type": "code",
      "source": [
        "a=(np.arange(25,50)).reshape(5,5)\n",
        "b=(np.arange(25)).reshape(5,5)\n",
        "c=np.dot(a,b) #dot multiplication of matrix\n",
        "d=a*b\n",
        "print(c)\n",
        "print(d)"
      ],
      "metadata": {
        "colab": {
          "base_uri": "https://localhost:8080/"
        },
        "id": "sNNVJ3G0XBTu",
        "outputId": "684bc9d9-6678-42f5-cedd-56de1eac27db"
      },
      "execution_count": 44,
      "outputs": [
        {
          "output_type": "stream",
          "name": "stdout",
          "text": [
            "[[1400 1535 1670 1805 1940]\n",
            " [1650 1810 1970 2130 2290]\n",
            " [1900 2085 2270 2455 2640]\n",
            " [2150 2360 2570 2780 2990]\n",
            " [2400 2635 2870 3105 3340]]\n",
            "[[   0   26   54   84  116]\n",
            " [ 150  186  224  264  306]\n",
            " [ 350  396  444  494  546]\n",
            " [ 600  656  714  774  836]\n",
            " [ 900  966 1034 1104 1176]]\n"
          ]
        }
      ]
    },
    {
      "cell_type": "markdown",
      "source": [
        "time module"
      ],
      "metadata": {
        "id": "cPVBnWtBZN4j"
      }
    },
    {
      "cell_type": "code",
      "source": [
        "print(t.perf_counter())\n",
        "print(t.time())\n",
        "print(t.ctime())"
      ],
      "metadata": {
        "colab": {
          "base_uri": "https://localhost:8080/"
        },
        "id": "CEYMabaiZQNi",
        "outputId": "37687717-6a86-47c9-d8cf-c8ba9331eb43"
      },
      "execution_count": 47,
      "outputs": [
        {
          "output_type": "stream",
          "name": "stdout",
          "text": [
            "2646.267199516\n",
            "1643368541.0307345\n",
            "Fri Jan 28 11:15:41 2022\n"
          ]
        }
      ]
    },
    {
      "cell_type": "code",
      "source": [
        "n =50 \n",
        "a=np.arange(n*n)+1\n",
        "a=a.reshape(n,n)\n",
        "b=a.T\n",
        "c=np.zeros((n,n))\n",
        "d=t.time()\n",
        "for i in range(n):\n",
        "  for j in range(n):\n",
        "    for k in range(n):\n",
        "      c[i][j]+=a[i][k]*b[k][j]\n",
        "print(t.time()-d)\n",
        "\n",
        "\n"
      ],
      "metadata": {
        "colab": {
          "base_uri": "https://localhost:8080/"
        },
        "id": "qX8AjLh7anOM",
        "outputId": "3e4ef7d7-3268-4b37-a658-744bd1844c21"
      },
      "execution_count": 50,
      "outputs": [
        {
          "output_type": "stream",
          "name": "stdout",
          "text": [
            "0.20958566665649414\n"
          ]
        }
      ]
    }
  ]
}